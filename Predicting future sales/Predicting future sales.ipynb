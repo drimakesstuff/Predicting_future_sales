{
 "cells": [
  {
   "cell_type": "markdown",
   "metadata": {},
   "source": [
    "# Import libraries"
   ]
  },
  {
   "cell_type": "code",
   "execution_count": 90,
   "metadata": {},
   "outputs": [],
   "source": [
    "import pandas as pd\n",
    "from sklearn.linear_model import LinearRegression\n",
    "import plotly.express as px"
   ]
  },
  {
   "cell_type": "markdown",
   "metadata": {},
   "source": [
    "# Load data"
   ]
  },
  {
   "cell_type": "code",
   "execution_count": 91,
   "metadata": {},
   "outputs": [
    {
     "name": "stdout",
     "output_type": "stream",
     "text": [
      "First 5 rows:\n",
      "       TV  Radio  Newspaper  Sales\n",
      "1  230.1   37.8       69.2   22.1\n",
      "2   44.5   39.3       45.1   10.4\n",
      "3   17.2   45.9       69.3    9.3\n",
      "4  151.5   41.3       58.5   18.5\n",
      "5  180.8   10.8       58.4   12.9\n"
     ]
    }
   ],
   "source": [
    "data = pd.read_csv('advertising.csv', index_col=0)\n",
    "print(\"First 5 rows:\\n\", data.head())"
   ]
  },
  {
   "cell_type": "markdown",
   "metadata": {},
   "source": [
    "# Features and target and Fit linear regression model"
   ]
  },
  {
   "cell_type": "code",
   "execution_count": 92,
   "metadata": {},
   "outputs": [
    {
     "data": {
      "text/html": [
       "<style>#sk-container-id-12 {\n",
       "  /* Definition of color scheme common for light and dark mode */\n",
       "  --sklearn-color-text: #000;\n",
       "  --sklearn-color-text-muted: #666;\n",
       "  --sklearn-color-line: gray;\n",
       "  /* Definition of color scheme for unfitted estimators */\n",
       "  --sklearn-color-unfitted-level-0: #fff5e6;\n",
       "  --sklearn-color-unfitted-level-1: #f6e4d2;\n",
       "  --sklearn-color-unfitted-level-2: #ffe0b3;\n",
       "  --sklearn-color-unfitted-level-3: chocolate;\n",
       "  /* Definition of color scheme for fitted estimators */\n",
       "  --sklearn-color-fitted-level-0: #f0f8ff;\n",
       "  --sklearn-color-fitted-level-1: #d4ebff;\n",
       "  --sklearn-color-fitted-level-2: #b3dbfd;\n",
       "  --sklearn-color-fitted-level-3: cornflowerblue;\n",
       "\n",
       "  /* Specific color for light theme */\n",
       "  --sklearn-color-text-on-default-background: var(--sg-text-color, var(--theme-code-foreground, var(--jp-content-font-color1, black)));\n",
       "  --sklearn-color-background: var(--sg-background-color, var(--theme-background, var(--jp-layout-color0, white)));\n",
       "  --sklearn-color-border-box: var(--sg-text-color, var(--theme-code-foreground, var(--jp-content-font-color1, black)));\n",
       "  --sklearn-color-icon: #696969;\n",
       "\n",
       "  @media (prefers-color-scheme: dark) {\n",
       "    /* Redefinition of color scheme for dark theme */\n",
       "    --sklearn-color-text-on-default-background: var(--sg-text-color, var(--theme-code-foreground, var(--jp-content-font-color1, white)));\n",
       "    --sklearn-color-background: var(--sg-background-color, var(--theme-background, var(--jp-layout-color0, #111)));\n",
       "    --sklearn-color-border-box: var(--sg-text-color, var(--theme-code-foreground, var(--jp-content-font-color1, white)));\n",
       "    --sklearn-color-icon: #878787;\n",
       "  }\n",
       "}\n",
       "\n",
       "#sk-container-id-12 {\n",
       "  color: var(--sklearn-color-text);\n",
       "}\n",
       "\n",
       "#sk-container-id-12 pre {\n",
       "  padding: 0;\n",
       "}\n",
       "\n",
       "#sk-container-id-12 input.sk-hidden--visually {\n",
       "  border: 0;\n",
       "  clip: rect(1px 1px 1px 1px);\n",
       "  clip: rect(1px, 1px, 1px, 1px);\n",
       "  height: 1px;\n",
       "  margin: -1px;\n",
       "  overflow: hidden;\n",
       "  padding: 0;\n",
       "  position: absolute;\n",
       "  width: 1px;\n",
       "}\n",
       "\n",
       "#sk-container-id-12 div.sk-dashed-wrapped {\n",
       "  border: 1px dashed var(--sklearn-color-line);\n",
       "  margin: 0 0.4em 0.5em 0.4em;\n",
       "  box-sizing: border-box;\n",
       "  padding-bottom: 0.4em;\n",
       "  background-color: var(--sklearn-color-background);\n",
       "}\n",
       "\n",
       "#sk-container-id-12 div.sk-container {\n",
       "  /* jupyter's `normalize.less` sets `[hidden] { display: none; }`\n",
       "     but bootstrap.min.css set `[hidden] { display: none !important; }`\n",
       "     so we also need the `!important` here to be able to override the\n",
       "     default hidden behavior on the sphinx rendered scikit-learn.org.\n",
       "     See: https://github.com/scikit-learn/scikit-learn/issues/21755 */\n",
       "  display: inline-block !important;\n",
       "  position: relative;\n",
       "}\n",
       "\n",
       "#sk-container-id-12 div.sk-text-repr-fallback {\n",
       "  display: none;\n",
       "}\n",
       "\n",
       "div.sk-parallel-item,\n",
       "div.sk-serial,\n",
       "div.sk-item {\n",
       "  /* draw centered vertical line to link estimators */\n",
       "  background-image: linear-gradient(var(--sklearn-color-text-on-default-background), var(--sklearn-color-text-on-default-background));\n",
       "  background-size: 2px 100%;\n",
       "  background-repeat: no-repeat;\n",
       "  background-position: center center;\n",
       "}\n",
       "\n",
       "/* Parallel-specific style estimator block */\n",
       "\n",
       "#sk-container-id-12 div.sk-parallel-item::after {\n",
       "  content: \"\";\n",
       "  width: 100%;\n",
       "  border-bottom: 2px solid var(--sklearn-color-text-on-default-background);\n",
       "  flex-grow: 1;\n",
       "}\n",
       "\n",
       "#sk-container-id-12 div.sk-parallel {\n",
       "  display: flex;\n",
       "  align-items: stretch;\n",
       "  justify-content: center;\n",
       "  background-color: var(--sklearn-color-background);\n",
       "  position: relative;\n",
       "}\n",
       "\n",
       "#sk-container-id-12 div.sk-parallel-item {\n",
       "  display: flex;\n",
       "  flex-direction: column;\n",
       "}\n",
       "\n",
       "#sk-container-id-12 div.sk-parallel-item:first-child::after {\n",
       "  align-self: flex-end;\n",
       "  width: 50%;\n",
       "}\n",
       "\n",
       "#sk-container-id-12 div.sk-parallel-item:last-child::after {\n",
       "  align-self: flex-start;\n",
       "  width: 50%;\n",
       "}\n",
       "\n",
       "#sk-container-id-12 div.sk-parallel-item:only-child::after {\n",
       "  width: 0;\n",
       "}\n",
       "\n",
       "/* Serial-specific style estimator block */\n",
       "\n",
       "#sk-container-id-12 div.sk-serial {\n",
       "  display: flex;\n",
       "  flex-direction: column;\n",
       "  align-items: center;\n",
       "  background-color: var(--sklearn-color-background);\n",
       "  padding-right: 1em;\n",
       "  padding-left: 1em;\n",
       "}\n",
       "\n",
       "\n",
       "/* Toggleable style: style used for estimator/Pipeline/ColumnTransformer box that is\n",
       "clickable and can be expanded/collapsed.\n",
       "- Pipeline and ColumnTransformer use this feature and define the default style\n",
       "- Estimators will overwrite some part of the style using the `sk-estimator` class\n",
       "*/\n",
       "\n",
       "/* Pipeline and ColumnTransformer style (default) */\n",
       "\n",
       "#sk-container-id-12 div.sk-toggleable {\n",
       "  /* Default theme specific background. It is overwritten whether we have a\n",
       "  specific estimator or a Pipeline/ColumnTransformer */\n",
       "  background-color: var(--sklearn-color-background);\n",
       "}\n",
       "\n",
       "/* Toggleable label */\n",
       "#sk-container-id-12 label.sk-toggleable__label {\n",
       "  cursor: pointer;\n",
       "  display: flex;\n",
       "  width: 100%;\n",
       "  margin-bottom: 0;\n",
       "  padding: 0.5em;\n",
       "  box-sizing: border-box;\n",
       "  text-align: center;\n",
       "  align-items: start;\n",
       "  justify-content: space-between;\n",
       "  gap: 0.5em;\n",
       "}\n",
       "\n",
       "#sk-container-id-12 label.sk-toggleable__label .caption {\n",
       "  font-size: 0.6rem;\n",
       "  font-weight: lighter;\n",
       "  color: var(--sklearn-color-text-muted);\n",
       "}\n",
       "\n",
       "#sk-container-id-12 label.sk-toggleable__label-arrow:before {\n",
       "  /* Arrow on the left of the label */\n",
       "  content: \"▸\";\n",
       "  float: left;\n",
       "  margin-right: 0.25em;\n",
       "  color: var(--sklearn-color-icon);\n",
       "}\n",
       "\n",
       "#sk-container-id-12 label.sk-toggleable__label-arrow:hover:before {\n",
       "  color: var(--sklearn-color-text);\n",
       "}\n",
       "\n",
       "/* Toggleable content - dropdown */\n",
       "\n",
       "#sk-container-id-12 div.sk-toggleable__content {\n",
       "  display: none;\n",
       "  text-align: left;\n",
       "  /* unfitted */\n",
       "  background-color: var(--sklearn-color-unfitted-level-0);\n",
       "}\n",
       "\n",
       "#sk-container-id-12 div.sk-toggleable__content.fitted {\n",
       "  /* fitted */\n",
       "  background-color: var(--sklearn-color-fitted-level-0);\n",
       "}\n",
       "\n",
       "#sk-container-id-12 div.sk-toggleable__content pre {\n",
       "  margin: 0.2em;\n",
       "  border-radius: 0.25em;\n",
       "  color: var(--sklearn-color-text);\n",
       "  /* unfitted */\n",
       "  background-color: var(--sklearn-color-unfitted-level-0);\n",
       "}\n",
       "\n",
       "#sk-container-id-12 div.sk-toggleable__content.fitted pre {\n",
       "  /* unfitted */\n",
       "  background-color: var(--sklearn-color-fitted-level-0);\n",
       "}\n",
       "\n",
       "#sk-container-id-12 input.sk-toggleable__control:checked~div.sk-toggleable__content {\n",
       "  /* Expand drop-down */\n",
       "  display: block;\n",
       "  width: 100%;\n",
       "  overflow: visible;\n",
       "}\n",
       "\n",
       "#sk-container-id-12 input.sk-toggleable__control:checked~label.sk-toggleable__label-arrow:before {\n",
       "  content: \"▾\";\n",
       "}\n",
       "\n",
       "/* Pipeline/ColumnTransformer-specific style */\n",
       "\n",
       "#sk-container-id-12 div.sk-label input.sk-toggleable__control:checked~label.sk-toggleable__label {\n",
       "  color: var(--sklearn-color-text);\n",
       "  background-color: var(--sklearn-color-unfitted-level-2);\n",
       "}\n",
       "\n",
       "#sk-container-id-12 div.sk-label.fitted input.sk-toggleable__control:checked~label.sk-toggleable__label {\n",
       "  background-color: var(--sklearn-color-fitted-level-2);\n",
       "}\n",
       "\n",
       "/* Estimator-specific style */\n",
       "\n",
       "/* Colorize estimator box */\n",
       "#sk-container-id-12 div.sk-estimator input.sk-toggleable__control:checked~label.sk-toggleable__label {\n",
       "  /* unfitted */\n",
       "  background-color: var(--sklearn-color-unfitted-level-2);\n",
       "}\n",
       "\n",
       "#sk-container-id-12 div.sk-estimator.fitted input.sk-toggleable__control:checked~label.sk-toggleable__label {\n",
       "  /* fitted */\n",
       "  background-color: var(--sklearn-color-fitted-level-2);\n",
       "}\n",
       "\n",
       "#sk-container-id-12 div.sk-label label.sk-toggleable__label,\n",
       "#sk-container-id-12 div.sk-label label {\n",
       "  /* The background is the default theme color */\n",
       "  color: var(--sklearn-color-text-on-default-background);\n",
       "}\n",
       "\n",
       "/* On hover, darken the color of the background */\n",
       "#sk-container-id-12 div.sk-label:hover label.sk-toggleable__label {\n",
       "  color: var(--sklearn-color-text);\n",
       "  background-color: var(--sklearn-color-unfitted-level-2);\n",
       "}\n",
       "\n",
       "/* Label box, darken color on hover, fitted */\n",
       "#sk-container-id-12 div.sk-label.fitted:hover label.sk-toggleable__label.fitted {\n",
       "  color: var(--sklearn-color-text);\n",
       "  background-color: var(--sklearn-color-fitted-level-2);\n",
       "}\n",
       "\n",
       "/* Estimator label */\n",
       "\n",
       "#sk-container-id-12 div.sk-label label {\n",
       "  font-family: monospace;\n",
       "  font-weight: bold;\n",
       "  display: inline-block;\n",
       "  line-height: 1.2em;\n",
       "}\n",
       "\n",
       "#sk-container-id-12 div.sk-label-container {\n",
       "  text-align: center;\n",
       "}\n",
       "\n",
       "/* Estimator-specific */\n",
       "#sk-container-id-12 div.sk-estimator {\n",
       "  font-family: monospace;\n",
       "  border: 1px dotted var(--sklearn-color-border-box);\n",
       "  border-radius: 0.25em;\n",
       "  box-sizing: border-box;\n",
       "  margin-bottom: 0.5em;\n",
       "  /* unfitted */\n",
       "  background-color: var(--sklearn-color-unfitted-level-0);\n",
       "}\n",
       "\n",
       "#sk-container-id-12 div.sk-estimator.fitted {\n",
       "  /* fitted */\n",
       "  background-color: var(--sklearn-color-fitted-level-0);\n",
       "}\n",
       "\n",
       "/* on hover */\n",
       "#sk-container-id-12 div.sk-estimator:hover {\n",
       "  /* unfitted */\n",
       "  background-color: var(--sklearn-color-unfitted-level-2);\n",
       "}\n",
       "\n",
       "#sk-container-id-12 div.sk-estimator.fitted:hover {\n",
       "  /* fitted */\n",
       "  background-color: var(--sklearn-color-fitted-level-2);\n",
       "}\n",
       "\n",
       "/* Specification for estimator info (e.g. \"i\" and \"?\") */\n",
       "\n",
       "/* Common style for \"i\" and \"?\" */\n",
       "\n",
       ".sk-estimator-doc-link,\n",
       "a:link.sk-estimator-doc-link,\n",
       "a:visited.sk-estimator-doc-link {\n",
       "  float: right;\n",
       "  font-size: smaller;\n",
       "  line-height: 1em;\n",
       "  font-family: monospace;\n",
       "  background-color: var(--sklearn-color-background);\n",
       "  border-radius: 1em;\n",
       "  height: 1em;\n",
       "  width: 1em;\n",
       "  text-decoration: none !important;\n",
       "  margin-left: 0.5em;\n",
       "  text-align: center;\n",
       "  /* unfitted */\n",
       "  border: var(--sklearn-color-unfitted-level-1) 1pt solid;\n",
       "  color: var(--sklearn-color-unfitted-level-1);\n",
       "}\n",
       "\n",
       ".sk-estimator-doc-link.fitted,\n",
       "a:link.sk-estimator-doc-link.fitted,\n",
       "a:visited.sk-estimator-doc-link.fitted {\n",
       "  /* fitted */\n",
       "  border: var(--sklearn-color-fitted-level-1) 1pt solid;\n",
       "  color: var(--sklearn-color-fitted-level-1);\n",
       "}\n",
       "\n",
       "/* On hover */\n",
       "div.sk-estimator:hover .sk-estimator-doc-link:hover,\n",
       ".sk-estimator-doc-link:hover,\n",
       "div.sk-label-container:hover .sk-estimator-doc-link:hover,\n",
       ".sk-estimator-doc-link:hover {\n",
       "  /* unfitted */\n",
       "  background-color: var(--sklearn-color-unfitted-level-3);\n",
       "  color: var(--sklearn-color-background);\n",
       "  text-decoration: none;\n",
       "}\n",
       "\n",
       "div.sk-estimator.fitted:hover .sk-estimator-doc-link.fitted:hover,\n",
       ".sk-estimator-doc-link.fitted:hover,\n",
       "div.sk-label-container:hover .sk-estimator-doc-link.fitted:hover,\n",
       ".sk-estimator-doc-link.fitted:hover {\n",
       "  /* fitted */\n",
       "  background-color: var(--sklearn-color-fitted-level-3);\n",
       "  color: var(--sklearn-color-background);\n",
       "  text-decoration: none;\n",
       "}\n",
       "\n",
       "/* Span, style for the box shown on hovering the info icon */\n",
       ".sk-estimator-doc-link span {\n",
       "  display: none;\n",
       "  z-index: 9999;\n",
       "  position: relative;\n",
       "  font-weight: normal;\n",
       "  right: .2ex;\n",
       "  padding: .5ex;\n",
       "  margin: .5ex;\n",
       "  width: min-content;\n",
       "  min-width: 20ex;\n",
       "  max-width: 50ex;\n",
       "  color: var(--sklearn-color-text);\n",
       "  box-shadow: 2pt 2pt 4pt #999;\n",
       "  /* unfitted */\n",
       "  background: var(--sklearn-color-unfitted-level-0);\n",
       "  border: .5pt solid var(--sklearn-color-unfitted-level-3);\n",
       "}\n",
       "\n",
       ".sk-estimator-doc-link.fitted span {\n",
       "  /* fitted */\n",
       "  background: var(--sklearn-color-fitted-level-0);\n",
       "  border: var(--sklearn-color-fitted-level-3);\n",
       "}\n",
       "\n",
       ".sk-estimator-doc-link:hover span {\n",
       "  display: block;\n",
       "}\n",
       "\n",
       "/* \"?\"-specific style due to the `<a>` HTML tag */\n",
       "\n",
       "#sk-container-id-12 a.estimator_doc_link {\n",
       "  float: right;\n",
       "  font-size: 1rem;\n",
       "  line-height: 1em;\n",
       "  font-family: monospace;\n",
       "  background-color: var(--sklearn-color-background);\n",
       "  border-radius: 1rem;\n",
       "  height: 1rem;\n",
       "  width: 1rem;\n",
       "  text-decoration: none;\n",
       "  /* unfitted */\n",
       "  color: var(--sklearn-color-unfitted-level-1);\n",
       "  border: var(--sklearn-color-unfitted-level-1) 1pt solid;\n",
       "}\n",
       "\n",
       "#sk-container-id-12 a.estimator_doc_link.fitted {\n",
       "  /* fitted */\n",
       "  border: var(--sklearn-color-fitted-level-1) 1pt solid;\n",
       "  color: var(--sklearn-color-fitted-level-1);\n",
       "}\n",
       "\n",
       "/* On hover */\n",
       "#sk-container-id-12 a.estimator_doc_link:hover {\n",
       "  /* unfitted */\n",
       "  background-color: var(--sklearn-color-unfitted-level-3);\n",
       "  color: var(--sklearn-color-background);\n",
       "  text-decoration: none;\n",
       "}\n",
       "\n",
       "#sk-container-id-12 a.estimator_doc_link.fitted:hover {\n",
       "  /* fitted */\n",
       "  background-color: var(--sklearn-color-fitted-level-3);\n",
       "}\n",
       "\n",
       ".estimator-table summary {\n",
       "    padding: .5rem;\n",
       "    font-family: monospace;\n",
       "    cursor: pointer;\n",
       "}\n",
       "\n",
       ".estimator-table details[open] {\n",
       "    padding-left: 0.1rem;\n",
       "    padding-right: 0.1rem;\n",
       "    padding-bottom: 0.3rem;\n",
       "}\n",
       "\n",
       ".estimator-table .parameters-table {\n",
       "    margin-left: auto !important;\n",
       "    margin-right: auto !important;\n",
       "}\n",
       "\n",
       ".estimator-table .parameters-table tr:nth-child(odd) {\n",
       "    background-color: #fff;\n",
       "}\n",
       "\n",
       ".estimator-table .parameters-table tr:nth-child(even) {\n",
       "    background-color: #f6f6f6;\n",
       "}\n",
       "\n",
       ".estimator-table .parameters-table tr:hover {\n",
       "    background-color: #e0e0e0;\n",
       "}\n",
       "\n",
       ".estimator-table table td {\n",
       "    border: 1px solid rgba(106, 105, 104, 0.232);\n",
       "}\n",
       "\n",
       ".user-set td {\n",
       "    color:rgb(255, 94, 0);\n",
       "    text-align: left;\n",
       "}\n",
       "\n",
       ".user-set td.value pre {\n",
       "    color:rgb(255, 94, 0) !important;\n",
       "    background-color: transparent !important;\n",
       "}\n",
       "\n",
       ".default td {\n",
       "    color: black;\n",
       "    text-align: left;\n",
       "}\n",
       "\n",
       ".user-set td i,\n",
       ".default td i {\n",
       "    color: black;\n",
       "}\n",
       "\n",
       ".copy-paste-icon {\n",
       "    background-image: url(data:image/svg+xml;base64,PHN2ZyB4bWxucz0iaHR0cDovL3d3dy53My5vcmcvMjAwMC9zdmciIHZpZXdCb3g9IjAgMCA0NDggNTEyIj48IS0tIUZvbnQgQXdlc29tZSBGcmVlIDYuNy4yIGJ5IEBmb250YXdlc29tZSAtIGh0dHBzOi8vZm9udGF3ZXNvbWUuY29tIExpY2Vuc2UgLSBodHRwczovL2ZvbnRhd2Vzb21lLmNvbS9saWNlbnNlL2ZyZWUgQ29weXJpZ2h0IDIwMjUgRm9udGljb25zLCBJbmMuLS0+PHBhdGggZD0iTTIwOCAwTDMzMi4xIDBjMTIuNyAwIDI0LjkgNS4xIDMzLjkgMTQuMWw2Ny45IDY3LjljOSA5IDE0LjEgMjEuMiAxNC4xIDMzLjlMNDQ4IDMzNmMwIDI2LjUtMjEuNSA0OC00OCA0OGwtMTkyIDBjLTI2LjUgMC00OC0yMS41LTQ4LTQ4bDAtMjg4YzAtMjYuNSAyMS41LTQ4IDQ4LTQ4ek00OCAxMjhsODAgMCAwIDY0LTY0IDAgMCAyNTYgMTkyIDAgMC0zMiA2NCAwIDAgNDhjMCAyNi41LTIxLjUgNDgtNDggNDhMNDggNTEyYy0yNi41IDAtNDgtMjEuNS00OC00OEwwIDE3NmMwLTI2LjUgMjEuNS00OCA0OC00OHoiLz48L3N2Zz4=);\n",
       "    background-repeat: no-repeat;\n",
       "    background-size: 14px 14px;\n",
       "    background-position: 0;\n",
       "    display: inline-block;\n",
       "    width: 14px;\n",
       "    height: 14px;\n",
       "    cursor: pointer;\n",
       "}\n",
       "</style><body><div id=\"sk-container-id-12\" class=\"sk-top-container\"><div class=\"sk-text-repr-fallback\"><pre>LinearRegression()</pre><b>In a Jupyter environment, please rerun this cell to show the HTML representation or trust the notebook. <br />On GitHub, the HTML representation is unable to render, please try loading this page with nbviewer.org.</b></div><div class=\"sk-container\" hidden><div class=\"sk-item\"><div class=\"sk-estimator fitted sk-toggleable\"><input class=\"sk-toggleable__control sk-hidden--visually\" id=\"sk-estimator-id-12\" type=\"checkbox\" checked><label for=\"sk-estimator-id-12\" class=\"sk-toggleable__label fitted sk-toggleable__label-arrow\"><div><div>LinearRegression</div></div><div><a class=\"sk-estimator-doc-link fitted\" rel=\"noreferrer\" target=\"_blank\" href=\"https://scikit-learn.org/1.7/modules/generated/sklearn.linear_model.LinearRegression.html\">?<span>Documentation for LinearRegression</span></a><span class=\"sk-estimator-doc-link fitted\">i<span>Fitted</span></span></div></label><div class=\"sk-toggleable__content fitted\" data-param-prefix=\"\">\n",
       "        <div class=\"estimator-table\">\n",
       "            <details>\n",
       "                <summary>Parameters</summary>\n",
       "                <table class=\"parameters-table\">\n",
       "                  <tbody>\n",
       "                    \n",
       "        <tr class=\"default\">\n",
       "            <td><i class=\"copy-paste-icon\"\n",
       "                 onclick=\"copyToClipboard('fit_intercept',\n",
       "                          this.parentElement.nextElementSibling)\"\n",
       "            ></i></td>\n",
       "            <td class=\"param\">fit_intercept&nbsp;</td>\n",
       "            <td class=\"value\">True</td>\n",
       "        </tr>\n",
       "    \n",
       "\n",
       "        <tr class=\"default\">\n",
       "            <td><i class=\"copy-paste-icon\"\n",
       "                 onclick=\"copyToClipboard('copy_X',\n",
       "                          this.parentElement.nextElementSibling)\"\n",
       "            ></i></td>\n",
       "            <td class=\"param\">copy_X&nbsp;</td>\n",
       "            <td class=\"value\">True</td>\n",
       "        </tr>\n",
       "    \n",
       "\n",
       "        <tr class=\"default\">\n",
       "            <td><i class=\"copy-paste-icon\"\n",
       "                 onclick=\"copyToClipboard('tol',\n",
       "                          this.parentElement.nextElementSibling)\"\n",
       "            ></i></td>\n",
       "            <td class=\"param\">tol&nbsp;</td>\n",
       "            <td class=\"value\">1e-06</td>\n",
       "        </tr>\n",
       "    \n",
       "\n",
       "        <tr class=\"default\">\n",
       "            <td><i class=\"copy-paste-icon\"\n",
       "                 onclick=\"copyToClipboard('n_jobs',\n",
       "                          this.parentElement.nextElementSibling)\"\n",
       "            ></i></td>\n",
       "            <td class=\"param\">n_jobs&nbsp;</td>\n",
       "            <td class=\"value\">None</td>\n",
       "        </tr>\n",
       "    \n",
       "\n",
       "        <tr class=\"default\">\n",
       "            <td><i class=\"copy-paste-icon\"\n",
       "                 onclick=\"copyToClipboard('positive',\n",
       "                          this.parentElement.nextElementSibling)\"\n",
       "            ></i></td>\n",
       "            <td class=\"param\">positive&nbsp;</td>\n",
       "            <td class=\"value\">False</td>\n",
       "        </tr>\n",
       "    \n",
       "                  </tbody>\n",
       "                </table>\n",
       "            </details>\n",
       "        </div>\n",
       "    </div></div></div></div></div><script>function copyToClipboard(text, element) {\n",
       "    // Get the parameter prefix from the closest toggleable content\n",
       "    const toggleableContent = element.closest('.sk-toggleable__content');\n",
       "    const paramPrefix = toggleableContent ? toggleableContent.dataset.paramPrefix : '';\n",
       "    const fullParamName = paramPrefix ? `${paramPrefix}${text}` : text;\n",
       "\n",
       "    const originalStyle = element.style;\n",
       "    const computedStyle = window.getComputedStyle(element);\n",
       "    const originalWidth = computedStyle.width;\n",
       "    const originalHTML = element.innerHTML.replace('Copied!', '');\n",
       "\n",
       "    navigator.clipboard.writeText(fullParamName)\n",
       "        .then(() => {\n",
       "            element.style.width = originalWidth;\n",
       "            element.style.color = 'green';\n",
       "            element.innerHTML = \"Copied!\";\n",
       "\n",
       "            setTimeout(() => {\n",
       "                element.innerHTML = originalHTML;\n",
       "                element.style = originalStyle;\n",
       "            }, 2000);\n",
       "        })\n",
       "        .catch(err => {\n",
       "            console.error('Failed to copy:', err);\n",
       "            element.style.color = 'red';\n",
       "            element.innerHTML = \"Failed!\";\n",
       "            setTimeout(() => {\n",
       "                element.innerHTML = originalHTML;\n",
       "                element.style = originalStyle;\n",
       "            }, 2000);\n",
       "        });\n",
       "    return false;\n",
       "}\n",
       "\n",
       "document.querySelectorAll('.fa-regular.fa-copy').forEach(function(element) {\n",
       "    const toggleableContent = element.closest('.sk-toggleable__content');\n",
       "    const paramPrefix = toggleableContent ? toggleableContent.dataset.paramPrefix : '';\n",
       "    const paramName = element.parentElement.nextElementSibling.textContent.trim();\n",
       "    const fullParamName = paramPrefix ? `${paramPrefix}${paramName}` : paramName;\n",
       "\n",
       "    element.setAttribute('title', fullParamName);\n",
       "});\n",
       "</script></body>"
      ],
      "text/plain": [
       "LinearRegression()"
      ]
     },
     "execution_count": 92,
     "metadata": {},
     "output_type": "execute_result"
    }
   ],
   "source": [
    "X = data[['TV', 'Radio', 'Newspaper']]\n",
    "y = data['Sales']\n",
    "\n",
    "model = LinearRegression()\n",
    "model.fit(X, y)"
   ]
  },
  {
   "cell_type": "code",
   "execution_count": 93,
   "metadata": {},
   "outputs": [],
   "source": [
    "coef_df = pd.DataFrame({\n",
    "    'Channel': X.columns,\n",
    "    'Impact': model.coef_\n",
    "})"
   ]
  },
  {
   "cell_type": "markdown",
   "metadata": {},
   "source": [
    "# Insights"
   ]
  },
  {
   "cell_type": "code",
   "execution_count": 94,
   "metadata": {},
   "outputs": [
    {
     "name": "stdout",
     "output_type": "stream",
     "text": [
      "Impact of each advertising channel on sales (units per $1k spent):\n",
      "TV: 0.05\n",
      "Radio: 0.19\n",
      "Newspaper: -0.00\n",
      "\n",
      "Most effective advertising channel: Radio\n"
     ]
    }
   ],
   "source": [
    "print(\"Impact of each advertising channel on sales (units per $1k spent):\")\n",
    "for feature, coef in zip(X.columns, model.coef_):\n",
    "    print(f\"{feature}: {coef:.2f}\")\n",
    "\n",
    "# Identify the most effective channel\n",
    "most_effective = X.columns[model.coef_.argmax()]\n",
    "print(f\"\\nMost effective advertising channel: {most_effective}\")"
   ]
  },
  {
   "cell_type": "markdown",
   "metadata": {},
   "source": [
    "# Visualization"
   ]
  },
  {
   "cell_type": "markdown",
   "metadata": {},
   "source": [
    "# 1️⃣ TV vs Sales"
   ]
  },
  {
   "cell_type": "code",
   "execution_count": 95,
   "metadata": {},
   "outputs": [
    {
     "data": {
      "application/vnd.plotly.v1+json": {
       "config": {
        "plotlyServerURL": "https://plot.ly"
       },
       "data": [
        {
         "customdata": {
          "bdata": "ZmZmZmbmQkDNzMzMzExRQGZmZmZmpkNAzczMzMyMRkAzMzMzM/NGQDMzMzMzU1FAZmZmZmamREAAAAAAAEBNQJqZmZmZmSVAMzMzMzMzTUAzMzMzM3NIQAAAAAAAwFJAZmZmZmZmQEAAAAAAAIA3QJqZmZmZmTNAMzMzMzMzJ0DNzMzMzMwAQAAAAAAAAPA/zczMzMzMBEAzMzMzMzM1QDMzMzMzMxdAMzMzMzMzOEAAAAAAAAA4QAAAAAAAABBAzczMzMyMQUCamZmZmXlQQGZmZmZmZh5AzczMzMzMHEAzMzMzM3NAQAAAAAAAAEdAmpmZmZnZR0AzMzMzM3NKQM3MzMzMTEJAAAAAAACAXEDNzMzMzMxDQGZmZmZm5ktAAAAAAACANEDNzMzMzEwyQGZmZmZm5jdAmpmZmZkZM0AzMzMzM7M7QDMzMzMzs0pAZmZmZmZmFEAAAAAAAIA3QM3MzMzMzC9AzczMzMzMSEBmZmZmZuYwQDMzMzMzMzpAMzMzMzMzKUDNzMzMzEwyQAAAAAAAAAxAAAAAAACAM0DNzMzMzEw9QDMzMzMzMylAMzMzMzOzMEBmZmZmZuY2QJqZmZmZGTtAZmZmZmbmNkAAAAAAAAAwQGZmZmZmZkRAzczMzMxMPECamZmZmZlFQGZmZmZmZjFAzczMzMxMQ0AAAAAAAAD4PwAAAAAAAD5AAAAAAAAANEAzMzMzMzPTP2ZmZmZmZvY/mpmZmZmZHUBmZmZmZmYQQAAAAAAAACFAZmZmZmbmRUAAAAAAAAAUQDMzMzMzs0hAmpmZmZnZRkAzMzMzM7M6QM3MzMzMjEFAmpmZmZnZQkAAAAAAAABAQM3MzMzMTDZAmpmZmZmZP0AzMzMzM7NAQJqZmZmZWUNAMzMzMzOzO0DNzMzMzMz8P83MzMzMzCBAZmZmZmZmOkAzMzMzM7M5QGZmZmZmpkVAAAAAAACANkAAAAAAAIA/QM3MzMzMzCNAmpmZmZnZQUAAAAAAAMBEQAAAAAAAgDJAmpmZmZmZL0AzMzMzM/NIQGZmZmZmZidAZmZmZmZmQkDNzMzMzMwIQM3MzMzMTEFAMzMzMzMzI0DNzMzMzMwMQJqZmZmZ2URAzczMzMzMQ0CamZmZmRlHQJqZmZmZWU1AzczMzMzMPEDNzMzMzMwvQDMzMzMzs0hAAAAAAAAATkCamZmZmRk8QDMzMzMzs0RAMzMzMzMzM0CamZmZmZkwQM3MzMzMzEhAmpmZmZnZQkAAAAAAAIA9QJqZmZmZmSJAAAAAAAAAAEBmZmZmZmY1QJqZmZmZWUVAmpmZmZlZS0AAAAAAAAAvQM3MzMzMTDtAmpmZmZmZPUDNzMzMzMwgQGZmZmZmZkVAZmZmZmbmPECamZmZmZkiQM3MzMzMzOw/mpmZmZmZOECamZmZmZkBQAAAAAAAAC1AZmZmZmZmJEAAAAAAAIA7QAAAAAAAACZAMzMzMzPzRUAzMzMzMzM7QJqZmZmZmT5AmpmZmZlZQ0CamZmZmZksQDMzMzMzsz9AAAAAAACAQEDNzMzMzEwzQM3MzMzMzBZAzczMzMxMP0CamZmZmZk4QDMzMzMzMypAmpmZmZnZRUCamZmZmVlWQJqZmZmZmfk/MzMzMzOzNEAAAAAAAIA8QGZmZmZmZixAZmZmZmbmPUDNzMzMzMwiQM3MzMzMzB5AmpmZmZkZN0AzMzMzM7M6QM3MzMzMTDZAZmZmZmZmEEAzMzMzM3NCQM3MzMzMTDRAAAAAAABAQEAAAAAAAEBGQM3MzMzMzEFAAAAAAACARUBmZmZmZuZAQGZmZmZmZjJAzczMzMxsUEAAAAAAAIA7QAAAAAAAADBAzczMzMxMRECamZmZmZlPQAAAAAAAgDlAmpmZmZlZUkBmZmZmZuZHQDMzMzMzs0lAmpmZmZmZE0CamZmZmZkiQAAAAAAAAPg/AAAAAACAQEAAAAAAAMBAQAAAAAAAgE1AAAAAAABAQkAzMzMzMxNSQAAAAAAAACxAzczMzMzMJUCamZmZmZk/QDMzMzMzc0pAAAAAAAAADECamZmZmZkXQAAAAAAAADVAAAAAAAAANkBmZmZmZiZFQJqZmZmZmUlAmpmZmZnZREAzMzMzM/NGQDMzMzMzMxFAZmZmZmbmSEBmZmZmZiZCQJqZmZmZOVlAMzMzMzMzJEBmZmZmZmY1QDMzMzMzMzFAZmZmZmbmMUBmZmZmZiZBQDMzMzMzMxVAMzMzMzMzR0AAAAAAAIBNQAAAAAAAACZAMzMzMzOzPUAzMzMzMzPTPzMzMzMzMzdAmpmZmZmZ2T+amZmZmZk5QGZmZmZm5jpAAAAAAAAAFkBmZmZmZmYgQAAAAAAAQExAAAAAAAAAQ0AzMzMzMzM3QM3MzMzMzC5AMzMzMzMzA0CamZmZmZk0QGZmZmZmZiVAZmZmZmZmR0AAAAAAAEBBQAAAAAAAgEFAmpmZmZlZSkCamZmZmZksQJqZmZmZmTlAmpmZmZmZ6T+amZmZmZktQDMzMzMzc0JAzczMzMzMU0AAAAAAAAAwQM3MzMzMTDZAzczMzMzMOkCamZmZmRlHQDMzMzMzszVAMzMzMzMzSUAzMzMzMzMDQDMzMzMzMy9AzczMzMxMQUDNzMzMzMwoQGZmZmZmJkBAzczMzMyMUkCamZmZmZknQGZmZmZm5jlAMzMzMzNzQ0DNzMzMzExJQAAAAAAAAAAAZmZmZmZmIkAAAAAAAIBIQJqZmZmZmQlAAAAAAAAAKEDNzMzMzIxFQM3MzMzMzENAZmZmZmZmIUAzMzMzMzMHQAAAAAAAgEVAMzMzMzMzO0DNzMzMzMwAQAAAAAAAwEBAzczMzMyMRkDNzMzMzExDQGZmZmZmZlBAAAAAAACAR0AAAAAAAAAhQAAAAAAAgENAmpmZmZmZIkBmZmZmZuY8QJqZmZmZ2U1AZmZmZmbmOUAAAAAAAIA0QDMzMzMz80VAMzMzMzMz+z8AAAAAAAAxQM3MzMzMzClAMzMzMzOzQUBmZmZmZuZSQJqZmZmZmUBAMzMzMzPzQkDNzMzMzMwWQDMzMzMzM0FAmpmZmZmZLUAzMzMzM3NDQGZmZmZmZv4/AAAAAAAAIkAzMzMzMzMdQGZmZmZmZiFAAAAAAACASEBmZmZmZiZGQGZmZmZmJkRAzczMzMzMJ0DNzMzMzMw5QJqZmZmZmTRAzczMzMzMK0AAAAAAAIBCQM3MzMzMzCBAmpmZmZlZSEDNzMzMzEw3QGZmZmZmZixAmpmZmZnZQ0CamZmZmdlCQJqZmZmZGTVAAAAAAAAAI0AzMzMzMzMnQM3MzMzMzBZAAAAAAADARUAAAAAAAEBJQM3MzMzMzPQ/zczMzMxMOEAzMzMzM3NCQJqZmZmZmUZAZmZmZmZmMkDNzMzMzExBQJqZmZmZGTJAMzMzMzOzPkBmZmZmZuZBQGZmZmZmpkhAmpmZmZkZMkCamZmZmZk5QGZmZmZmZkJAmpmZmZmZHUBmZmZmZmYtQJqZmZmZmRVAMzMzMzMzC0AzMzMzMzNVQM3MzMzMzEJAmpmZmZmZNUDNzMzMzMwUQGZmZmZmZjNAmpmZmZmZN0DNzMzMzMxMQDMzMzMzMyVAmpmZmZmZGUAzMzMzMzMnQGZmZmZmZjJAZmZmZmbmNEAzMzMzM7NHQJqZmZmZGTRAAAAAAAAAMUBmZmZmZmYcQJqZmZmZmSlAMzMzMzMzC0AzMzMzMzMqQDMzMzMzc0hAZmZmZmbmREAzMzMzMzM+QM3MzMzMTDRAMzMzMzMzH0CamZmZmZlBQGZmZmZmZgJAMzMzMzOzN0AAAAAAAAAkQJqZmZmZmTFAzczMzMzMBECamZmZmZkgQJqZmZmZmRVAZmZmZmZmO0DNzMzMzMwWQDMzMzMzsz1AAAAAAACARUAzMzMzM/NRQM3MzMzMTDVAAAAAAAAAPkDNzMzMzIxGQJqZmZmZmTNAzczMzMzMAECamZmZmZk6QDMzMzMzszxAMzMzMzMzMkDNzMzMzMwrQJqZmZmZmQ1AMzMzMzMzKEBmZmZmZmY3QM3MzMzMjERAMzMzMzMzF0CamZmZmZklQAAAAAAAABhAZmZmZmZmEECamZmZmZk/QAAAAAAAAEVAzczMzMzMDEDNzMzMzMxBQAAAAAAAABhAmpmZmZmZDUCamZmZmZkrQJqZmZmZmRNAMzMzMzMzIECamZmZmZkiQJqZmZmZmRlAAAAAAAAARUDNzMzMzIxQQDMzMzMzMyFAZmZmZmZmIUA=",
          "dtype": "f8",
          "shape": "200, 2"
         },
         "hovertemplate": "TV Spend ($k)=%{x}<br>Sales (k units)=%{marker.color}<br>Radio=%{customdata[0]}<br>Newspaper=%{customdata[1]}<extra></extra>",
         "legendgroup": "",
         "marker": {
          "color": {
           "bdata": "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",
           "dtype": "f8"
          },
          "coloraxis": "coloraxis",
          "symbol": "circle"
         },
         "mode": "markers",
         "name": "",
         "orientation": "v",
         "showlegend": false,
         "type": "scatter",
         "x": {
          "bdata": "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",
          "dtype": "f8"
         },
         "xaxis": "x",
         "y": {
          "bdata": "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",
          "dtype": "f8"
         },
         "yaxis": "y"
        }
       ],
       "layout": {
        "coloraxis": {
         "colorbar": {
          "title": {
           "text": "Sales (k units)"
          }
         },
         "colorscale": [
          [
           0,
           "#440154"
          ],
          [
           0.1111111111111111,
           "#482878"
          ],
          [
           0.2222222222222222,
           "#3e4989"
          ],
          [
           0.3333333333333333,
           "#31688e"
          ],
          [
           0.4444444444444444,
           "#26828e"
          ],
          [
           0.5555555555555556,
           "#1f9e89"
          ],
          [
           0.6666666666666666,
           "#35b779"
          ],
          [
           0.7777777777777778,
           "#6ece58"
          ],
          [
           0.8888888888888888,
           "#b5de2b"
          ],
          [
           1,
           "#fde725"
          ]
         ]
        },
        "legend": {
         "tracegroupgap": 0
        },
        "template": {
         "data": {
          "bar": [
           {
            "error_x": {
             "color": "#2a3f5f"
            },
            "error_y": {
             "color": "#2a3f5f"
            },
            "marker": {
             "line": {
              "color": "#E5ECF6",
              "width": 0.5
             },
             "pattern": {
              "fillmode": "overlay",
              "size": 10,
              "solidity": 0.2
             }
            },
            "type": "bar"
           }
          ],
          "barpolar": [
           {
            "marker": {
             "line": {
              "color": "#E5ECF6",
              "width": 0.5
             },
             "pattern": {
              "fillmode": "overlay",
              "size": 10,
              "solidity": 0.2
             }
            },
            "type": "barpolar"
           }
          ],
          "carpet": [
           {
            "aaxis": {
             "endlinecolor": "#2a3f5f",
             "gridcolor": "white",
             "linecolor": "white",
             "minorgridcolor": "white",
             "startlinecolor": "#2a3f5f"
            },
            "baxis": {
             "endlinecolor": "#2a3f5f",
             "gridcolor": "white",
             "linecolor": "white",
             "minorgridcolor": "white",
             "startlinecolor": "#2a3f5f"
            },
            "type": "carpet"
           }
          ],
          "choropleth": [
           {
            "colorbar": {
             "outlinewidth": 0,
             "ticks": ""
            },
            "type": "choropleth"
           }
          ],
          "contour": [
           {
            "colorbar": {
             "outlinewidth": 0,
             "ticks": ""
            },
            "colorscale": [
             [
              0,
              "#0d0887"
             ],
             [
              0.1111111111111111,
              "#46039f"
             ],
             [
              0.2222222222222222,
              "#7201a8"
             ],
             [
              0.3333333333333333,
              "#9c179e"
             ],
             [
              0.4444444444444444,
              "#bd3786"
             ],
             [
              0.5555555555555556,
              "#d8576b"
             ],
             [
              0.6666666666666666,
              "#ed7953"
             ],
             [
              0.7777777777777778,
              "#fb9f3a"
             ],
             [
              0.8888888888888888,
              "#fdca26"
             ],
             [
              1,
              "#f0f921"
             ]
            ],
            "type": "contour"
           }
          ],
          "contourcarpet": [
           {
            "colorbar": {
             "outlinewidth": 0,
             "ticks": ""
            },
            "type": "contourcarpet"
           }
          ],
          "heatmap": [
           {
            "colorbar": {
             "outlinewidth": 0,
             "ticks": ""
            },
            "colorscale": [
             [
              0,
              "#0d0887"
             ],
             [
              0.1111111111111111,
              "#46039f"
             ],
             [
              0.2222222222222222,
              "#7201a8"
             ],
             [
              0.3333333333333333,
              "#9c179e"
             ],
             [
              0.4444444444444444,
              "#bd3786"
             ],
             [
              0.5555555555555556,
              "#d8576b"
             ],
             [
              0.6666666666666666,
              "#ed7953"
             ],
             [
              0.7777777777777778,
              "#fb9f3a"
             ],
             [
              0.8888888888888888,
              "#fdca26"
             ],
             [
              1,
              "#f0f921"
             ]
            ],
            "type": "heatmap"
           }
          ],
          "histogram": [
           {
            "marker": {
             "pattern": {
              "fillmode": "overlay",
              "size": 10,
              "solidity": 0.2
             }
            },
            "type": "histogram"
           }
          ],
          "histogram2d": [
           {
            "colorbar": {
             "outlinewidth": 0,
             "ticks": ""
            },
            "colorscale": [
             [
              0,
              "#0d0887"
             ],
             [
              0.1111111111111111,
              "#46039f"
             ],
             [
              0.2222222222222222,
              "#7201a8"
             ],
             [
              0.3333333333333333,
              "#9c179e"
             ],
             [
              0.4444444444444444,
              "#bd3786"
             ],
             [
              0.5555555555555556,
              "#d8576b"
             ],
             [
              0.6666666666666666,
              "#ed7953"
             ],
             [
              0.7777777777777778,
              "#fb9f3a"
             ],
             [
              0.8888888888888888,
              "#fdca26"
             ],
             [
              1,
              "#f0f921"
             ]
            ],
            "type": "histogram2d"
           }
          ],
          "histogram2dcontour": [
           {
            "colorbar": {
             "outlinewidth": 0,
             "ticks": ""
            },
            "colorscale": [
             [
              0,
              "#0d0887"
             ],
             [
              0.1111111111111111,
              "#46039f"
             ],
             [
              0.2222222222222222,
              "#7201a8"
             ],
             [
              0.3333333333333333,
              "#9c179e"
             ],
             [
              0.4444444444444444,
              "#bd3786"
             ],
             [
              0.5555555555555556,
              "#d8576b"
             ],
             [
              0.6666666666666666,
              "#ed7953"
             ],
             [
              0.7777777777777778,
              "#fb9f3a"
             ],
             [
              0.8888888888888888,
              "#fdca26"
             ],
             [
              1,
              "#f0f921"
             ]
            ],
            "type": "histogram2dcontour"
           }
          ],
          "mesh3d": [
           {
            "colorbar": {
             "outlinewidth": 0,
             "ticks": ""
            },
            "type": "mesh3d"
           }
          ],
          "parcoords": [
           {
            "line": {
             "colorbar": {
              "outlinewidth": 0,
              "ticks": ""
             }
            },
            "type": "parcoords"
           }
          ],
          "pie": [
           {
            "automargin": true,
            "type": "pie"
           }
          ],
          "scatter": [
           {
            "fillpattern": {
             "fillmode": "overlay",
             "size": 10,
             "solidity": 0.2
            },
            "type": "scatter"
           }
          ],
          "scatter3d": [
           {
            "line": {
             "colorbar": {
              "outlinewidth": 0,
              "ticks": ""
             }
            },
            "marker": {
             "colorbar": {
              "outlinewidth": 0,
              "ticks": ""
             }
            },
            "type": "scatter3d"
           }
          ],
          "scattercarpet": [
           {
            "marker": {
             "colorbar": {
              "outlinewidth": 0,
              "ticks": ""
             }
            },
            "type": "scattercarpet"
           }
          ],
          "scattergeo": [
           {
            "marker": {
             "colorbar": {
              "outlinewidth": 0,
              "ticks": ""
             }
            },
            "type": "scattergeo"
           }
          ],
          "scattergl": [
           {
            "marker": {
             "colorbar": {
              "outlinewidth": 0,
              "ticks": ""
             }
            },
            "type": "scattergl"
           }
          ],
          "scattermap": [
           {
            "marker": {
             "colorbar": {
              "outlinewidth": 0,
              "ticks": ""
             }
            },
            "type": "scattermap"
           }
          ],
          "scattermapbox": [
           {
            "marker": {
             "colorbar": {
              "outlinewidth": 0,
              "ticks": ""
             }
            },
            "type": "scattermapbox"
           }
          ],
          "scatterpolar": [
           {
            "marker": {
             "colorbar": {
              "outlinewidth": 0,
              "ticks": ""
             }
            },
            "type": "scatterpolar"
           }
          ],
          "scatterpolargl": [
           {
            "marker": {
             "colorbar": {
              "outlinewidth": 0,
              "ticks": ""
             }
            },
            "type": "scatterpolargl"
           }
          ],
          "scatterternary": [
           {
            "marker": {
             "colorbar": {
              "outlinewidth": 0,
              "ticks": ""
             }
            },
            "type": "scatterternary"
           }
          ],
          "surface": [
           {
            "colorbar": {
             "outlinewidth": 0,
             "ticks": ""
            },
            "colorscale": [
             [
              0,
              "#0d0887"
             ],
             [
              0.1111111111111111,
              "#46039f"
             ],
             [
              0.2222222222222222,
              "#7201a8"
             ],
             [
              0.3333333333333333,
              "#9c179e"
             ],
             [
              0.4444444444444444,
              "#bd3786"
             ],
             [
              0.5555555555555556,
              "#d8576b"
             ],
             [
              0.6666666666666666,
              "#ed7953"
             ],
             [
              0.7777777777777778,
              "#fb9f3a"
             ],
             [
              0.8888888888888888,
              "#fdca26"
             ],
             [
              1,
              "#f0f921"
             ]
            ],
            "type": "surface"
           }
          ],
          "table": [
           {
            "cells": {
             "fill": {
              "color": "#EBF0F8"
             },
             "line": {
              "color": "white"
             }
            },
            "header": {
             "fill": {
              "color": "#C8D4E3"
             },
             "line": {
              "color": "white"
             }
            },
            "type": "table"
           }
          ]
         },
         "layout": {
          "annotationdefaults": {
           "arrowcolor": "#2a3f5f",
           "arrowhead": 0,
           "arrowwidth": 1
          },
          "autotypenumbers": "strict",
          "coloraxis": {
           "colorbar": {
            "outlinewidth": 0,
            "ticks": ""
           }
          },
          "colorscale": {
           "diverging": [
            [
             0,
             "#8e0152"
            ],
            [
             0.1,
             "#c51b7d"
            ],
            [
             0.2,
             "#de77ae"
            ],
            [
             0.3,
             "#f1b6da"
            ],
            [
             0.4,
             "#fde0ef"
            ],
            [
             0.5,
             "#f7f7f7"
            ],
            [
             0.6,
             "#e6f5d0"
            ],
            [
             0.7,
             "#b8e186"
            ],
            [
             0.8,
             "#7fbc41"
            ],
            [
             0.9,
             "#4d9221"
            ],
            [
             1,
             "#276419"
            ]
           ],
           "sequential": [
            [
             0,
             "#0d0887"
            ],
            [
             0.1111111111111111,
             "#46039f"
            ],
            [
             0.2222222222222222,
             "#7201a8"
            ],
            [
             0.3333333333333333,
             "#9c179e"
            ],
            [
             0.4444444444444444,
             "#bd3786"
            ],
            [
             0.5555555555555556,
             "#d8576b"
            ],
            [
             0.6666666666666666,
             "#ed7953"
            ],
            [
             0.7777777777777778,
             "#fb9f3a"
            ],
            [
             0.8888888888888888,
             "#fdca26"
            ],
            [
             1,
             "#f0f921"
            ]
           ],
           "sequentialminus": [
            [
             0,
             "#0d0887"
            ],
            [
             0.1111111111111111,
             "#46039f"
            ],
            [
             0.2222222222222222,
             "#7201a8"
            ],
            [
             0.3333333333333333,
             "#9c179e"
            ],
            [
             0.4444444444444444,
             "#bd3786"
            ],
            [
             0.5555555555555556,
             "#d8576b"
            ],
            [
             0.6666666666666666,
             "#ed7953"
            ],
            [
             0.7777777777777778,
             "#fb9f3a"
            ],
            [
             0.8888888888888888,
             "#fdca26"
            ],
            [
             1,
             "#f0f921"
            ]
           ]
          },
          "colorway": [
           "#636efa",
           "#EF553B",
           "#00cc96",
           "#ab63fa",
           "#FFA15A",
           "#19d3f3",
           "#FF6692",
           "#B6E880",
           "#FF97FF",
           "#FECB52"
          ],
          "font": {
           "color": "#2a3f5f"
          },
          "geo": {
           "bgcolor": "white",
           "lakecolor": "white",
           "landcolor": "#E5ECF6",
           "showlakes": true,
           "showland": true,
           "subunitcolor": "white"
          },
          "hoverlabel": {
           "align": "left"
          },
          "hovermode": "closest",
          "mapbox": {
           "style": "light"
          },
          "paper_bgcolor": "white",
          "plot_bgcolor": "#E5ECF6",
          "polar": {
           "angularaxis": {
            "gridcolor": "white",
            "linecolor": "white",
            "ticks": ""
           },
           "bgcolor": "#E5ECF6",
           "radialaxis": {
            "gridcolor": "white",
            "linecolor": "white",
            "ticks": ""
           }
          },
          "scene": {
           "xaxis": {
            "backgroundcolor": "#E5ECF6",
            "gridcolor": "white",
            "gridwidth": 2,
            "linecolor": "white",
            "showbackground": true,
            "ticks": "",
            "zerolinecolor": "white"
           },
           "yaxis": {
            "backgroundcolor": "#E5ECF6",
            "gridcolor": "white",
            "gridwidth": 2,
            "linecolor": "white",
            "showbackground": true,
            "ticks": "",
            "zerolinecolor": "white"
           },
           "zaxis": {
            "backgroundcolor": "#E5ECF6",
            "gridcolor": "white",
            "gridwidth": 2,
            "linecolor": "white",
            "showbackground": true,
            "ticks": "",
            "zerolinecolor": "white"
           }
          },
          "shapedefaults": {
           "line": {
            "color": "#2a3f5f"
           }
          },
          "ternary": {
           "aaxis": {
            "gridcolor": "white",
            "linecolor": "white",
            "ticks": ""
           },
           "baxis": {
            "gridcolor": "white",
            "linecolor": "white",
            "ticks": ""
           },
           "bgcolor": "#E5ECF6",
           "caxis": {
            "gridcolor": "white",
            "linecolor": "white",
            "ticks": ""
           }
          },
          "title": {
           "x": 0.05
          },
          "xaxis": {
           "automargin": true,
           "gridcolor": "white",
           "linecolor": "white",
           "ticks": "",
           "title": {
            "standoff": 15
           },
           "zerolinecolor": "white",
           "zerolinewidth": 2
          },
          "yaxis": {
           "automargin": true,
           "gridcolor": "white",
           "linecolor": "white",
           "ticks": "",
           "title": {
            "standoff": 15
           },
           "zerolinecolor": "white",
           "zerolinewidth": 2
          }
         }
        },
        "title": {
         "text": "TV Advertising Spend vs Sales"
        },
        "xaxis": {
         "anchor": "y",
         "domain": [
          0,
          1
         ],
         "title": {
          "text": "TV Spend ($k)"
         }
        },
        "yaxis": {
         "anchor": "x",
         "domain": [
          0,
          1
         ],
         "title": {
          "text": "Sales (k units)"
         }
        }
       }
      }
     },
     "metadata": {},
     "output_type": "display_data"
    }
   ],
   "source": [
    "fig_tv = px.scatter(\n",
    "    data,\n",
    "    x='TV',\n",
    "    y='Sales',\n",
    "    color='Sales',  # optional: color points by sales\n",
    "    color_continuous_scale='Viridis',\n",
    "    title='TV Advertising Spend vs Sales',\n",
    "    labels={'TV':'TV Spend ($k)', 'Sales':'Sales (k units)'},\n",
    "    hover_data=['Radio', 'Newspaper']  # other channels on hover\n",
    ")\n",
    "fig_tv.show()"
   ]
  },
  {
   "cell_type": "markdown",
   "metadata": {},
   "source": [
    "# 2️⃣ Radio vs Sales"
   ]
  },
  {
   "cell_type": "code",
   "execution_count": 96,
   "metadata": {},
   "outputs": [
    {
     "data": {
      "application/vnd.plotly.v1+json": {
       "config": {
        "plotlyServerURL": "https://plot.ly"
       },
       "data": [
        {
         "customdata": {
          "bdata": "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",
          "dtype": "f8",
          "shape": "200, 2"
         },
         "hovertemplate": "Radio Spend ($k)=%{x}<br>Sales (k units)=%{marker.color}<br>TV=%{customdata[0]}<br>Newspaper=%{customdata[1]}<extra></extra>",
         "legendgroup": "",
         "marker": {
          "color": {
           "bdata": "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",
           "dtype": "f8"
          },
          "coloraxis": "coloraxis",
          "symbol": "circle"
         },
         "mode": "markers",
         "name": "",
         "orientation": "v",
         "showlegend": false,
         "type": "scatter",
         "x": {
          "bdata": "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",
          "dtype": "f8"
         },
         "xaxis": "x",
         "y": {
          "bdata": "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",
          "dtype": "f8"
         },
         "yaxis": "y"
        }
       ],
       "layout": {
        "coloraxis": {
         "colorbar": {
          "title": {
           "text": "Sales (k units)"
          }
         },
         "colorscale": [
          [
           0,
           "#440154"
          ],
          [
           0.1111111111111111,
           "#482878"
          ],
          [
           0.2222222222222222,
           "#3e4989"
          ],
          [
           0.3333333333333333,
           "#31688e"
          ],
          [
           0.4444444444444444,
           "#26828e"
          ],
          [
           0.5555555555555556,
           "#1f9e89"
          ],
          [
           0.6666666666666666,
           "#35b779"
          ],
          [
           0.7777777777777778,
           "#6ece58"
          ],
          [
           0.8888888888888888,
           "#b5de2b"
          ],
          [
           1,
           "#fde725"
          ]
         ]
        },
        "legend": {
         "tracegroupgap": 0
        },
        "template": {
         "data": {
          "bar": [
           {
            "error_x": {
             "color": "#2a3f5f"
            },
            "error_y": {
             "color": "#2a3f5f"
            },
            "marker": {
             "line": {
              "color": "#E5ECF6",
              "width": 0.5
             },
             "pattern": {
              "fillmode": "overlay",
              "size": 10,
              "solidity": 0.2
             }
            },
            "type": "bar"
           }
          ],
          "barpolar": [
           {
            "marker": {
             "line": {
              "color": "#E5ECF6",
              "width": 0.5
             },
             "pattern": {
              "fillmode": "overlay",
              "size": 10,
              "solidity": 0.2
             }
            },
            "type": "barpolar"
           }
          ],
          "carpet": [
           {
            "aaxis": {
             "endlinecolor": "#2a3f5f",
             "gridcolor": "white",
             "linecolor": "white",
             "minorgridcolor": "white",
             "startlinecolor": "#2a3f5f"
            },
            "baxis": {
             "endlinecolor": "#2a3f5f",
             "gridcolor": "white",
             "linecolor": "white",
             "minorgridcolor": "white",
             "startlinecolor": "#2a3f5f"
            },
            "type": "carpet"
           }
          ],
          "choropleth": [
           {
            "colorbar": {
             "outlinewidth": 0,
             "ticks": ""
            },
            "type": "choropleth"
           }
          ],
          "contour": [
           {
            "colorbar": {
             "outlinewidth": 0,
             "ticks": ""
            },
            "colorscale": [
             [
              0,
              "#0d0887"
             ],
             [
              0.1111111111111111,
              "#46039f"
             ],
             [
              0.2222222222222222,
              "#7201a8"
             ],
             [
              0.3333333333333333,
              "#9c179e"
             ],
             [
              0.4444444444444444,
              "#bd3786"
             ],
             [
              0.5555555555555556,
              "#d8576b"
             ],
             [
              0.6666666666666666,
              "#ed7953"
             ],
             [
              0.7777777777777778,
              "#fb9f3a"
             ],
             [
              0.8888888888888888,
              "#fdca26"
             ],
             [
              1,
              "#f0f921"
             ]
            ],
            "type": "contour"
           }
          ],
          "contourcarpet": [
           {
            "colorbar": {
             "outlinewidth": 0,
             "ticks": ""
            },
            "type": "contourcarpet"
           }
          ],
          "heatmap": [
           {
            "colorbar": {
             "outlinewidth": 0,
             "ticks": ""
            },
            "colorscale": [
             [
              0,
              "#0d0887"
             ],
             [
              0.1111111111111111,
              "#46039f"
             ],
             [
              0.2222222222222222,
              "#7201a8"
             ],
             [
              0.3333333333333333,
              "#9c179e"
             ],
             [
              0.4444444444444444,
              "#bd3786"
             ],
             [
              0.5555555555555556,
              "#d8576b"
             ],
             [
              0.6666666666666666,
              "#ed7953"
             ],
             [
              0.7777777777777778,
              "#fb9f3a"
             ],
             [
              0.8888888888888888,
              "#fdca26"
             ],
             [
              1,
              "#f0f921"
             ]
            ],
            "type": "heatmap"
           }
          ],
          "histogram": [
           {
            "marker": {
             "pattern": {
              "fillmode": "overlay",
              "size": 10,
              "solidity": 0.2
             }
            },
            "type": "histogram"
           }
          ],
          "histogram2d": [
           {
            "colorbar": {
             "outlinewidth": 0,
             "ticks": ""
            },
            "colorscale": [
             [
              0,
              "#0d0887"
             ],
             [
              0.1111111111111111,
              "#46039f"
             ],
             [
              0.2222222222222222,
              "#7201a8"
             ],
             [
              0.3333333333333333,
              "#9c179e"
             ],
             [
              0.4444444444444444,
              "#bd3786"
             ],
             [
              0.5555555555555556,
              "#d8576b"
             ],
             [
              0.6666666666666666,
              "#ed7953"
             ],
             [
              0.7777777777777778,
              "#fb9f3a"
             ],
             [
              0.8888888888888888,
              "#fdca26"
             ],
             [
              1,
              "#f0f921"
             ]
            ],
            "type": "histogram2d"
           }
          ],
          "histogram2dcontour": [
           {
            "colorbar": {
             "outlinewidth": 0,
             "ticks": ""
            },
            "colorscale": [
             [
              0,
              "#0d0887"
             ],
             [
              0.1111111111111111,
              "#46039f"
             ],
             [
              0.2222222222222222,
              "#7201a8"
             ],
             [
              0.3333333333333333,
              "#9c179e"
             ],
             [
              0.4444444444444444,
              "#bd3786"
             ],
             [
              0.5555555555555556,
              "#d8576b"
             ],
             [
              0.6666666666666666,
              "#ed7953"
             ],
             [
              0.7777777777777778,
              "#fb9f3a"
             ],
             [
              0.8888888888888888,
              "#fdca26"
             ],
             [
              1,
              "#f0f921"
             ]
            ],
            "type": "histogram2dcontour"
           }
          ],
          "mesh3d": [
           {
            "colorbar": {
             "outlinewidth": 0,
             "ticks": ""
            },
            "type": "mesh3d"
           }
          ],
          "parcoords": [
           {
            "line": {
             "colorbar": {
              "outlinewidth": 0,
              "ticks": ""
             }
            },
            "type": "parcoords"
           }
          ],
          "pie": [
           {
            "automargin": true,
            "type": "pie"
           }
          ],
          "scatter": [
           {
            "fillpattern": {
             "fillmode": "overlay",
             "size": 10,
             "solidity": 0.2
            },
            "type": "scatter"
           }
          ],
          "scatter3d": [
           {
            "line": {
             "colorbar": {
              "outlinewidth": 0,
              "ticks": ""
             }
            },
            "marker": {
             "colorbar": {
              "outlinewidth": 0,
              "ticks": ""
             }
            },
            "type": "scatter3d"
           }
          ],
          "scattercarpet": [
           {
            "marker": {
             "colorbar": {
              "outlinewidth": 0,
              "ticks": ""
             }
            },
            "type": "scattercarpet"
           }
          ],
          "scattergeo": [
           {
            "marker": {
             "colorbar": {
              "outlinewidth": 0,
              "ticks": ""
             }
            },
            "type": "scattergeo"
           }
          ],
          "scattergl": [
           {
            "marker": {
             "colorbar": {
              "outlinewidth": 0,
              "ticks": ""
             }
            },
            "type": "scattergl"
           }
          ],
          "scattermap": [
           {
            "marker": {
             "colorbar": {
              "outlinewidth": 0,
              "ticks": ""
             }
            },
            "type": "scattermap"
           }
          ],
          "scattermapbox": [
           {
            "marker": {
             "colorbar": {
              "outlinewidth": 0,
              "ticks": ""
             }
            },
            "type": "scattermapbox"
           }
          ],
          "scatterpolar": [
           {
            "marker": {
             "colorbar": {
              "outlinewidth": 0,
              "ticks": ""
             }
            },
            "type": "scatterpolar"
           }
          ],
          "scatterpolargl": [
           {
            "marker": {
             "colorbar": {
              "outlinewidth": 0,
              "ticks": ""
             }
            },
            "type": "scatterpolargl"
           }
          ],
          "scatterternary": [
           {
            "marker": {
             "colorbar": {
              "outlinewidth": 0,
              "ticks": ""
             }
            },
            "type": "scatterternary"
           }
          ],
          "surface": [
           {
            "colorbar": {
             "outlinewidth": 0,
             "ticks": ""
            },
            "colorscale": [
             [
              0,
              "#0d0887"
             ],
             [
              0.1111111111111111,
              "#46039f"
             ],
             [
              0.2222222222222222,
              "#7201a8"
             ],
             [
              0.3333333333333333,
              "#9c179e"
             ],
             [
              0.4444444444444444,
              "#bd3786"
             ],
             [
              0.5555555555555556,
              "#d8576b"
             ],
             [
              0.6666666666666666,
              "#ed7953"
             ],
             [
              0.7777777777777778,
              "#fb9f3a"
             ],
             [
              0.8888888888888888,
              "#fdca26"
             ],
             [
              1,
              "#f0f921"
             ]
            ],
            "type": "surface"
           }
          ],
          "table": [
           {
            "cells": {
             "fill": {
              "color": "#EBF0F8"
             },
             "line": {
              "color": "white"
             }
            },
            "header": {
             "fill": {
              "color": "#C8D4E3"
             },
             "line": {
              "color": "white"
             }
            },
            "type": "table"
           }
          ]
         },
         "layout": {
          "annotationdefaults": {
           "arrowcolor": "#2a3f5f",
           "arrowhead": 0,
           "arrowwidth": 1
          },
          "autotypenumbers": "strict",
          "coloraxis": {
           "colorbar": {
            "outlinewidth": 0,
            "ticks": ""
           }
          },
          "colorscale": {
           "diverging": [
            [
             0,
             "#8e0152"
            ],
            [
             0.1,
             "#c51b7d"
            ],
            [
             0.2,
             "#de77ae"
            ],
            [
             0.3,
             "#f1b6da"
            ],
            [
             0.4,
             "#fde0ef"
            ],
            [
             0.5,
             "#f7f7f7"
            ],
            [
             0.6,
             "#e6f5d0"
            ],
            [
             0.7,
             "#b8e186"
            ],
            [
             0.8,
             "#7fbc41"
            ],
            [
             0.9,
             "#4d9221"
            ],
            [
             1,
             "#276419"
            ]
           ],
           "sequential": [
            [
             0,
             "#0d0887"
            ],
            [
             0.1111111111111111,
             "#46039f"
            ],
            [
             0.2222222222222222,
             "#7201a8"
            ],
            [
             0.3333333333333333,
             "#9c179e"
            ],
            [
             0.4444444444444444,
             "#bd3786"
            ],
            [
             0.5555555555555556,
             "#d8576b"
            ],
            [
             0.6666666666666666,
             "#ed7953"
            ],
            [
             0.7777777777777778,
             "#fb9f3a"
            ],
            [
             0.8888888888888888,
             "#fdca26"
            ],
            [
             1,
             "#f0f921"
            ]
           ],
           "sequentialminus": [
            [
             0,
             "#0d0887"
            ],
            [
             0.1111111111111111,
             "#46039f"
            ],
            [
             0.2222222222222222,
             "#7201a8"
            ],
            [
             0.3333333333333333,
             "#9c179e"
            ],
            [
             0.4444444444444444,
             "#bd3786"
            ],
            [
             0.5555555555555556,
             "#d8576b"
            ],
            [
             0.6666666666666666,
             "#ed7953"
            ],
            [
             0.7777777777777778,
             "#fb9f3a"
            ],
            [
             0.8888888888888888,
             "#fdca26"
            ],
            [
             1,
             "#f0f921"
            ]
           ]
          },
          "colorway": [
           "#636efa",
           "#EF553B",
           "#00cc96",
           "#ab63fa",
           "#FFA15A",
           "#19d3f3",
           "#FF6692",
           "#B6E880",
           "#FF97FF",
           "#FECB52"
          ],
          "font": {
           "color": "#2a3f5f"
          },
          "geo": {
           "bgcolor": "white",
           "lakecolor": "white",
           "landcolor": "#E5ECF6",
           "showlakes": true,
           "showland": true,
           "subunitcolor": "white"
          },
          "hoverlabel": {
           "align": "left"
          },
          "hovermode": "closest",
          "mapbox": {
           "style": "light"
          },
          "paper_bgcolor": "white",
          "plot_bgcolor": "#E5ECF6",
          "polar": {
           "angularaxis": {
            "gridcolor": "white",
            "linecolor": "white",
            "ticks": ""
           },
           "bgcolor": "#E5ECF6",
           "radialaxis": {
            "gridcolor": "white",
            "linecolor": "white",
            "ticks": ""
           }
          },
          "scene": {
           "xaxis": {
            "backgroundcolor": "#E5ECF6",
            "gridcolor": "white",
            "gridwidth": 2,
            "linecolor": "white",
            "showbackground": true,
            "ticks": "",
            "zerolinecolor": "white"
           },
           "yaxis": {
            "backgroundcolor": "#E5ECF6",
            "gridcolor": "white",
            "gridwidth": 2,
            "linecolor": "white",
            "showbackground": true,
            "ticks": "",
            "zerolinecolor": "white"
           },
           "zaxis": {
            "backgroundcolor": "#E5ECF6",
            "gridcolor": "white",
            "gridwidth": 2,
            "linecolor": "white",
            "showbackground": true,
            "ticks": "",
            "zerolinecolor": "white"
           }
          },
          "shapedefaults": {
           "line": {
            "color": "#2a3f5f"
           }
          },
          "ternary": {
           "aaxis": {
            "gridcolor": "white",
            "linecolor": "white",
            "ticks": ""
           },
           "baxis": {
            "gridcolor": "white",
            "linecolor": "white",
            "ticks": ""
           },
           "bgcolor": "#E5ECF6",
           "caxis": {
            "gridcolor": "white",
            "linecolor": "white",
            "ticks": ""
           }
          },
          "title": {
           "x": 0.05
          },
          "xaxis": {
           "automargin": true,
           "gridcolor": "white",
           "linecolor": "white",
           "ticks": "",
           "title": {
            "standoff": 15
           },
           "zerolinecolor": "white",
           "zerolinewidth": 2
          },
          "yaxis": {
           "automargin": true,
           "gridcolor": "white",
           "linecolor": "white",
           "ticks": "",
           "title": {
            "standoff": 15
           },
           "zerolinecolor": "white",
           "zerolinewidth": 2
          }
         }
        },
        "title": {
         "text": "Radio Advertising Spend vs Sales"
        },
        "xaxis": {
         "anchor": "y",
         "domain": [
          0,
          1
         ],
         "title": {
          "text": "Radio Spend ($k)"
         }
        },
        "yaxis": {
         "anchor": "x",
         "domain": [
          0,
          1
         ],
         "title": {
          "text": "Sales (k units)"
         }
        }
       }
      }
     },
     "metadata": {},
     "output_type": "display_data"
    }
   ],
   "source": [
    "fig_radio = px.scatter(\n",
    "    data,\n",
    "    x='Radio',\n",
    "    y='Sales',\n",
    "    color='Sales',\n",
    "    color_continuous_scale='Viridis',\n",
    "    title='Radio Advertising Spend vs Sales',\n",
    "    labels={'Radio':'Radio Spend ($k)', 'Sales':'Sales (k units)'},\n",
    "    hover_data=['TV', 'Newspaper']\n",
    ")\n",
    "fig_radio.show()\n"
   ]
  },
  {
   "cell_type": "markdown",
   "metadata": {},
   "source": [
    "# 3️⃣ Newspaper vs Sales"
   ]
  },
  {
   "cell_type": "code",
   "execution_count": 97,
   "metadata": {},
   "outputs": [
    {
     "data": {
      "application/vnd.plotly.v1+json": {
       "config": {
        "plotlyServerURL": "https://plot.ly"
       },
       "data": [
        {
         "customdata": {
          "bdata": "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",
          "dtype": "f8",
          "shape": "200, 2"
         },
         "hovertemplate": "Newspaper Spend ($k)=%{x}<br>Sales (k units)=%{marker.color}<br>TV=%{customdata[0]}<br>Radio=%{customdata[1]}<extra></extra>",
         "legendgroup": "",
         "marker": {
          "color": {
           "bdata": "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",
           "dtype": "f8"
          },
          "coloraxis": "coloraxis",
          "symbol": "circle"
         },
         "mode": "markers",
         "name": "",
         "orientation": "v",
         "showlegend": false,
         "type": "scatter",
         "x": {
          "bdata": "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",
          "dtype": "f8"
         },
         "xaxis": "x",
         "y": {
          "bdata": "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",
          "dtype": "f8"
         },
         "yaxis": "y"
        }
       ],
       "layout": {
        "coloraxis": {
         "colorbar": {
          "title": {
           "text": "Sales (k units)"
          }
         },
         "colorscale": [
          [
           0,
           "#440154"
          ],
          [
           0.1111111111111111,
           "#482878"
          ],
          [
           0.2222222222222222,
           "#3e4989"
          ],
          [
           0.3333333333333333,
           "#31688e"
          ],
          [
           0.4444444444444444,
           "#26828e"
          ],
          [
           0.5555555555555556,
           "#1f9e89"
          ],
          [
           0.6666666666666666,
           "#35b779"
          ],
          [
           0.7777777777777778,
           "#6ece58"
          ],
          [
           0.8888888888888888,
           "#b5de2b"
          ],
          [
           1,
           "#fde725"
          ]
         ]
        },
        "legend": {
         "tracegroupgap": 0
        },
        "template": {
         "data": {
          "bar": [
           {
            "error_x": {
             "color": "#2a3f5f"
            },
            "error_y": {
             "color": "#2a3f5f"
            },
            "marker": {
             "line": {
              "color": "#E5ECF6",
              "width": 0.5
             },
             "pattern": {
              "fillmode": "overlay",
              "size": 10,
              "solidity": 0.2
             }
            },
            "type": "bar"
           }
          ],
          "barpolar": [
           {
            "marker": {
             "line": {
              "color": "#E5ECF6",
              "width": 0.5
             },
             "pattern": {
              "fillmode": "overlay",
              "size": 10,
              "solidity": 0.2
             }
            },
            "type": "barpolar"
           }
          ],
          "carpet": [
           {
            "aaxis": {
             "endlinecolor": "#2a3f5f",
             "gridcolor": "white",
             "linecolor": "white",
             "minorgridcolor": "white",
             "startlinecolor": "#2a3f5f"
            },
            "baxis": {
             "endlinecolor": "#2a3f5f",
             "gridcolor": "white",
             "linecolor": "white",
             "minorgridcolor": "white",
             "startlinecolor": "#2a3f5f"
            },
            "type": "carpet"
           }
          ],
          "choropleth": [
           {
            "colorbar": {
             "outlinewidth": 0,
             "ticks": ""
            },
            "type": "choropleth"
           }
          ],
          "contour": [
           {
            "colorbar": {
             "outlinewidth": 0,
             "ticks": ""
            },
            "colorscale": [
             [
              0,
              "#0d0887"
             ],
             [
              0.1111111111111111,
              "#46039f"
             ],
             [
              0.2222222222222222,
              "#7201a8"
             ],
             [
              0.3333333333333333,
              "#9c179e"
             ],
             [
              0.4444444444444444,
              "#bd3786"
             ],
             [
              0.5555555555555556,
              "#d8576b"
             ],
             [
              0.6666666666666666,
              "#ed7953"
             ],
             [
              0.7777777777777778,
              "#fb9f3a"
             ],
             [
              0.8888888888888888,
              "#fdca26"
             ],
             [
              1,
              "#f0f921"
             ]
            ],
            "type": "contour"
           }
          ],
          "contourcarpet": [
           {
            "colorbar": {
             "outlinewidth": 0,
             "ticks": ""
            },
            "type": "contourcarpet"
           }
          ],
          "heatmap": [
           {
            "colorbar": {
             "outlinewidth": 0,
             "ticks": ""
            },
            "colorscale": [
             [
              0,
              "#0d0887"
             ],
             [
              0.1111111111111111,
              "#46039f"
             ],
             [
              0.2222222222222222,
              "#7201a8"
             ],
             [
              0.3333333333333333,
              "#9c179e"
             ],
             [
              0.4444444444444444,
              "#bd3786"
             ],
             [
              0.5555555555555556,
              "#d8576b"
             ],
             [
              0.6666666666666666,
              "#ed7953"
             ],
             [
              0.7777777777777778,
              "#fb9f3a"
             ],
             [
              0.8888888888888888,
              "#fdca26"
             ],
             [
              1,
              "#f0f921"
             ]
            ],
            "type": "heatmap"
           }
          ],
          "histogram": [
           {
            "marker": {
             "pattern": {
              "fillmode": "overlay",
              "size": 10,
              "solidity": 0.2
             }
            },
            "type": "histogram"
           }
          ],
          "histogram2d": [
           {
            "colorbar": {
             "outlinewidth": 0,
             "ticks": ""
            },
            "colorscale": [
             [
              0,
              "#0d0887"
             ],
             [
              0.1111111111111111,
              "#46039f"
             ],
             [
              0.2222222222222222,
              "#7201a8"
             ],
             [
              0.3333333333333333,
              "#9c179e"
             ],
             [
              0.4444444444444444,
              "#bd3786"
             ],
             [
              0.5555555555555556,
              "#d8576b"
             ],
             [
              0.6666666666666666,
              "#ed7953"
             ],
             [
              0.7777777777777778,
              "#fb9f3a"
             ],
             [
              0.8888888888888888,
              "#fdca26"
             ],
             [
              1,
              "#f0f921"
             ]
            ],
            "type": "histogram2d"
           }
          ],
          "histogram2dcontour": [
           {
            "colorbar": {
             "outlinewidth": 0,
             "ticks": ""
            },
            "colorscale": [
             [
              0,
              "#0d0887"
             ],
             [
              0.1111111111111111,
              "#46039f"
             ],
             [
              0.2222222222222222,
              "#7201a8"
             ],
             [
              0.3333333333333333,
              "#9c179e"
             ],
             [
              0.4444444444444444,
              "#bd3786"
             ],
             [
              0.5555555555555556,
              "#d8576b"
             ],
             [
              0.6666666666666666,
              "#ed7953"
             ],
             [
              0.7777777777777778,
              "#fb9f3a"
             ],
             [
              0.8888888888888888,
              "#fdca26"
             ],
             [
              1,
              "#f0f921"
             ]
            ],
            "type": "histogram2dcontour"
           }
          ],
          "mesh3d": [
           {
            "colorbar": {
             "outlinewidth": 0,
             "ticks": ""
            },
            "type": "mesh3d"
           }
          ],
          "parcoords": [
           {
            "line": {
             "colorbar": {
              "outlinewidth": 0,
              "ticks": ""
             }
            },
            "type": "parcoords"
           }
          ],
          "pie": [
           {
            "automargin": true,
            "type": "pie"
           }
          ],
          "scatter": [
           {
            "fillpattern": {
             "fillmode": "overlay",
             "size": 10,
             "solidity": 0.2
            },
            "type": "scatter"
           }
          ],
          "scatter3d": [
           {
            "line": {
             "colorbar": {
              "outlinewidth": 0,
              "ticks": ""
             }
            },
            "marker": {
             "colorbar": {
              "outlinewidth": 0,
              "ticks": ""
             }
            },
            "type": "scatter3d"
           }
          ],
          "scattercarpet": [
           {
            "marker": {
             "colorbar": {
              "outlinewidth": 0,
              "ticks": ""
             }
            },
            "type": "scattercarpet"
           }
          ],
          "scattergeo": [
           {
            "marker": {
             "colorbar": {
              "outlinewidth": 0,
              "ticks": ""
             }
            },
            "type": "scattergeo"
           }
          ],
          "scattergl": [
           {
            "marker": {
             "colorbar": {
              "outlinewidth": 0,
              "ticks": ""
             }
            },
            "type": "scattergl"
           }
          ],
          "scattermap": [
           {
            "marker": {
             "colorbar": {
              "outlinewidth": 0,
              "ticks": ""
             }
            },
            "type": "scattermap"
           }
          ],
          "scattermapbox": [
           {
            "marker": {
             "colorbar": {
              "outlinewidth": 0,
              "ticks": ""
             }
            },
            "type": "scattermapbox"
           }
          ],
          "scatterpolar": [
           {
            "marker": {
             "colorbar": {
              "outlinewidth": 0,
              "ticks": ""
             }
            },
            "type": "scatterpolar"
           }
          ],
          "scatterpolargl": [
           {
            "marker": {
             "colorbar": {
              "outlinewidth": 0,
              "ticks": ""
             }
            },
            "type": "scatterpolargl"
           }
          ],
          "scatterternary": [
           {
            "marker": {
             "colorbar": {
              "outlinewidth": 0,
              "ticks": ""
             }
            },
            "type": "scatterternary"
           }
          ],
          "surface": [
           {
            "colorbar": {
             "outlinewidth": 0,
             "ticks": ""
            },
            "colorscale": [
             [
              0,
              "#0d0887"
             ],
             [
              0.1111111111111111,
              "#46039f"
             ],
             [
              0.2222222222222222,
              "#7201a8"
             ],
             [
              0.3333333333333333,
              "#9c179e"
             ],
             [
              0.4444444444444444,
              "#bd3786"
             ],
             [
              0.5555555555555556,
              "#d8576b"
             ],
             [
              0.6666666666666666,
              "#ed7953"
             ],
             [
              0.7777777777777778,
              "#fb9f3a"
             ],
             [
              0.8888888888888888,
              "#fdca26"
             ],
             [
              1,
              "#f0f921"
             ]
            ],
            "type": "surface"
           }
          ],
          "table": [
           {
            "cells": {
             "fill": {
              "color": "#EBF0F8"
             },
             "line": {
              "color": "white"
             }
            },
            "header": {
             "fill": {
              "color": "#C8D4E3"
             },
             "line": {
              "color": "white"
             }
            },
            "type": "table"
           }
          ]
         },
         "layout": {
          "annotationdefaults": {
           "arrowcolor": "#2a3f5f",
           "arrowhead": 0,
           "arrowwidth": 1
          },
          "autotypenumbers": "strict",
          "coloraxis": {
           "colorbar": {
            "outlinewidth": 0,
            "ticks": ""
           }
          },
          "colorscale": {
           "diverging": [
            [
             0,
             "#8e0152"
            ],
            [
             0.1,
             "#c51b7d"
            ],
            [
             0.2,
             "#de77ae"
            ],
            [
             0.3,
             "#f1b6da"
            ],
            [
             0.4,
             "#fde0ef"
            ],
            [
             0.5,
             "#f7f7f7"
            ],
            [
             0.6,
             "#e6f5d0"
            ],
            [
             0.7,
             "#b8e186"
            ],
            [
             0.8,
             "#7fbc41"
            ],
            [
             0.9,
             "#4d9221"
            ],
            [
             1,
             "#276419"
            ]
           ],
           "sequential": [
            [
             0,
             "#0d0887"
            ],
            [
             0.1111111111111111,
             "#46039f"
            ],
            [
             0.2222222222222222,
             "#7201a8"
            ],
            [
             0.3333333333333333,
             "#9c179e"
            ],
            [
             0.4444444444444444,
             "#bd3786"
            ],
            [
             0.5555555555555556,
             "#d8576b"
            ],
            [
             0.6666666666666666,
             "#ed7953"
            ],
            [
             0.7777777777777778,
             "#fb9f3a"
            ],
            [
             0.8888888888888888,
             "#fdca26"
            ],
            [
             1,
             "#f0f921"
            ]
           ],
           "sequentialminus": [
            [
             0,
             "#0d0887"
            ],
            [
             0.1111111111111111,
             "#46039f"
            ],
            [
             0.2222222222222222,
             "#7201a8"
            ],
            [
             0.3333333333333333,
             "#9c179e"
            ],
            [
             0.4444444444444444,
             "#bd3786"
            ],
            [
             0.5555555555555556,
             "#d8576b"
            ],
            [
             0.6666666666666666,
             "#ed7953"
            ],
            [
             0.7777777777777778,
             "#fb9f3a"
            ],
            [
             0.8888888888888888,
             "#fdca26"
            ],
            [
             1,
             "#f0f921"
            ]
           ]
          },
          "colorway": [
           "#636efa",
           "#EF553B",
           "#00cc96",
           "#ab63fa",
           "#FFA15A",
           "#19d3f3",
           "#FF6692",
           "#B6E880",
           "#FF97FF",
           "#FECB52"
          ],
          "font": {
           "color": "#2a3f5f"
          },
          "geo": {
           "bgcolor": "white",
           "lakecolor": "white",
           "landcolor": "#E5ECF6",
           "showlakes": true,
           "showland": true,
           "subunitcolor": "white"
          },
          "hoverlabel": {
           "align": "left"
          },
          "hovermode": "closest",
          "mapbox": {
           "style": "light"
          },
          "paper_bgcolor": "white",
          "plot_bgcolor": "#E5ECF6",
          "polar": {
           "angularaxis": {
            "gridcolor": "white",
            "linecolor": "white",
            "ticks": ""
           },
           "bgcolor": "#E5ECF6",
           "radialaxis": {
            "gridcolor": "white",
            "linecolor": "white",
            "ticks": ""
           }
          },
          "scene": {
           "xaxis": {
            "backgroundcolor": "#E5ECF6",
            "gridcolor": "white",
            "gridwidth": 2,
            "linecolor": "white",
            "showbackground": true,
            "ticks": "",
            "zerolinecolor": "white"
           },
           "yaxis": {
            "backgroundcolor": "#E5ECF6",
            "gridcolor": "white",
            "gridwidth": 2,
            "linecolor": "white",
            "showbackground": true,
            "ticks": "",
            "zerolinecolor": "white"
           },
           "zaxis": {
            "backgroundcolor": "#E5ECF6",
            "gridcolor": "white",
            "gridwidth": 2,
            "linecolor": "white",
            "showbackground": true,
            "ticks": "",
            "zerolinecolor": "white"
           }
          },
          "shapedefaults": {
           "line": {
            "color": "#2a3f5f"
           }
          },
          "ternary": {
           "aaxis": {
            "gridcolor": "white",
            "linecolor": "white",
            "ticks": ""
           },
           "baxis": {
            "gridcolor": "white",
            "linecolor": "white",
            "ticks": ""
           },
           "bgcolor": "#E5ECF6",
           "caxis": {
            "gridcolor": "white",
            "linecolor": "white",
            "ticks": ""
           }
          },
          "title": {
           "x": 0.05
          },
          "xaxis": {
           "automargin": true,
           "gridcolor": "white",
           "linecolor": "white",
           "ticks": "",
           "title": {
            "standoff": 15
           },
           "zerolinecolor": "white",
           "zerolinewidth": 2
          },
          "yaxis": {
           "automargin": true,
           "gridcolor": "white",
           "linecolor": "white",
           "ticks": "",
           "title": {
            "standoff": 15
           },
           "zerolinecolor": "white",
           "zerolinewidth": 2
          }
         }
        },
        "title": {
         "text": "Newspaper Advertising Spend vs Sales"
        },
        "xaxis": {
         "anchor": "y",
         "domain": [
          0,
          1
         ],
         "title": {
          "text": "Newspaper Spend ($k)"
         }
        },
        "yaxis": {
         "anchor": "x",
         "domain": [
          0,
          1
         ],
         "title": {
          "text": "Sales (k units)"
         }
        }
       }
      }
     },
     "metadata": {},
     "output_type": "display_data"
    }
   ],
   "source": [
    "fig_news = px.scatter(\n",
    "    data,\n",
    "    x='Newspaper',\n",
    "    y='Sales',\n",
    "    color='Sales',\n",
    "    color_continuous_scale='Viridis',\n",
    "    title='Newspaper Advertising Spend vs Sales',\n",
    "    labels={'Newspaper':'Newspaper Spend ($k)', 'Sales':'Sales (k units)'},\n",
    "    hover_data=['TV', 'Radio']\n",
    ")\n",
    "fig_news.show()"
   ]
  },
  {
   "cell_type": "markdown",
   "metadata": {},
   "source": [
    "### Budget Allocation Recommendation:\n",
    "Based on the regression analysis of advertising channels, Radio and TV demonstrated the highest positive impact on sales per $1k spent, while Newspaper had negligible or negative influence. Therefore, it is recommended to increase the advertising budget for Radio and TV, allocating funds proportionally to their effectiveness. \n",
    "\n",
    "For example, if the total marketing budget is $100k, a larger share should go to Radio (the most effective channel), followed by TV, while minimizing or eliminating spending on Newspaper ads. This data-driven reallocation ensures maximum sales impact per dollar spent, improves ROI, and reduces wasted expenditure on low-performing channels."
   ]
  }
 ],
 "metadata": {
  "kernelspec": {
   "display_name": "Python 3",
   "language": "python",
   "name": "python3"
  },
  "language_info": {
   "codemirror_mode": {
    "name": "ipython",
    "version": 3
   },
   "file_extension": ".py",
   "mimetype": "text/x-python",
   "name": "python",
   "nbconvert_exporter": "python",
   "pygments_lexer": "ipython3",
   "version": "3.12.5"
  }
 },
 "nbformat": 4,
 "nbformat_minor": 2
}
